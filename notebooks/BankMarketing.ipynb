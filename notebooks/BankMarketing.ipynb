{
 "cells": [
  {
   "cell_type": "code",
   "execution_count": null,
   "id": "2fcbed7c",
   "metadata": {},
   "outputs": [],
   "source": [
    "import os\n",
    "import sys\n",
    "\n",
    "# Cambiar el directorio de trabajo al root del proyecto\n",
    "os.chdir(\"..\")\n",
    "\n",
    "# Agregar la carpeta src al path para importar los módulos\n",
    "sys.path.append(\"./src\")\n",
    "\n",
    "# Importar funciones\n",
    "from app import auth_kaggle, descargar_dataset"
   ]
  },
  {
   "cell_type": "code",
   "execution_count": null,
   "id": "5029047f",
   "metadata": {},
   "outputs": [],
   "source": [
    "auth_kaggle()"
   ]
  },
  {
   "cell_type": "code",
   "execution_count": null,
   "id": "1580f05b",
   "metadata": {},
   "outputs": [],
   "source": [
    "descargar_dataset()"
   ]
  },
  {
   "cell_type": "code",
   "execution_count": null,
   "id": "4f651971",
   "metadata": {},
   "outputs": [],
   "source": [
    "#Para transformar el archivo csv en un dataframe\n",
    "import pandas as pd\n",
    "df = pd.read_csv(\"../data/bank-additional-full.csv\", sep=\";\")\n",
    "df"
   ]
  }
 ],
 "metadata": {
  "kernelspec": {
   "display_name": ".venv",
   "language": "python",
   "name": "python3"
  },
  "language_info": {
   "codemirror_mode": {
    "name": "ipython",
    "version": 3
   },
   "file_extension": ".py",
   "mimetype": "text/x-python",
   "name": "python",
   "nbconvert_exporter": "python",
   "pygments_lexer": "ipython3",
   "version": "3.13.3"
  }
 },
 "nbformat": 4,
 "nbformat_minor": 5
}
